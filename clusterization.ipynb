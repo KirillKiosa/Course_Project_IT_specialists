{
 "cells": [
  {
   "cell_type": "markdown",
   "id": "ecb47657",
   "metadata": {},
   "source": [
    "# Clusterization\n"
   ]
  },
  {
   "cell_type": "code",
   "execution_count": 1,
   "id": "5ece7b1a",
   "metadata": {},
   "outputs": [],
   "source": [
    "import pandas as pd\n",
    "from scipy.spatial.distance import pdist\n",
    "from scipy.cluster.hierarchy import *\n",
    "from matplotlib import pyplot as plt\n",
    "from matplotlib import rc\n",
    "import numpy as np\n",
    "from sklearn.cluster import KMeans\n",
    "%matplotlib inline "
   ]
  },
  {
   "cell_type": "code",
   "execution_count": 2,
   "id": "a662ef6b",
   "metadata": {},
   "outputs": [
    {
     "data": {
      "text/html": [
       "<div>\n",
       "<style scoped>\n",
       "    .dataframe tbody tr th:only-of-type {\n",
       "        vertical-align: middle;\n",
       "    }\n",
       "\n",
       "    .dataframe tbody tr th {\n",
       "        vertical-align: top;\n",
       "    }\n",
       "\n",
       "    .dataframe thead th {\n",
       "        text-align: right;\n",
       "    }\n",
       "</style>\n",
       "<table border=\"1\" class=\"dataframe\">\n",
       "  <thead>\n",
       "    <tr style=\"text-align: right;\">\n",
       "      <th></th>\n",
       "      <th>Пол</th>\n",
       "      <th>Город</th>\n",
       "      <th>Позиция</th>\n",
       "      <th>Старшинство</th>\n",
       "      <th>Ежегодная зарплата(доллары)</th>\n",
       "    </tr>\n",
       "  </thead>\n",
       "  <tbody>\n",
       "    <tr>\n",
       "      <th>0</th>\n",
       "      <td>Мужской</td>\n",
       "      <td>Хельсинки</td>\n",
       "      <td>Инженер-программист</td>\n",
       "      <td>Senior</td>\n",
       "      <td>80000.0</td>\n",
       "    </tr>\n",
       "    <tr>\n",
       "      <th>1</th>\n",
       "      <td>Мужской</td>\n",
       "      <td>Хельсинки</td>\n",
       "      <td>Бэкенд-разработчик</td>\n",
       "      <td>Senior</td>\n",
       "      <td>80000.0</td>\n",
       "    </tr>\n",
       "    <tr>\n",
       "      <th>2</th>\n",
       "      <td>Мужской</td>\n",
       "      <td>Хельсинки</td>\n",
       "      <td>Инженер-программист</td>\n",
       "      <td>Lead</td>\n",
       "      <td>120000.0</td>\n",
       "    </tr>\n",
       "    <tr>\n",
       "      <th>3</th>\n",
       "      <td>Мужской</td>\n",
       "      <td>Хельсинки</td>\n",
       "      <td>Фронтенд-разработчик</td>\n",
       "      <td>Junior</td>\n",
       "      <td>54000.0</td>\n",
       "    </tr>\n",
       "    <tr>\n",
       "      <th>4</th>\n",
       "      <td>Мужской</td>\n",
       "      <td>Хельсинки</td>\n",
       "      <td>Бэкенд-разработчик</td>\n",
       "      <td>Senior</td>\n",
       "      <td>62000.0</td>\n",
       "    </tr>\n",
       "    <tr>\n",
       "      <th>...</th>\n",
       "      <td>...</td>\n",
       "      <td>...</td>\n",
       "      <td>...</td>\n",
       "      <td>...</td>\n",
       "      <td>...</td>\n",
       "    </tr>\n",
       "    <tr>\n",
       "      <th>1629</th>\n",
       "      <td>Мужской</td>\n",
       "      <td>Гродно</td>\n",
       "      <td>Инженер-программист</td>\n",
       "      <td>Senior</td>\n",
       "      <td>44320.0</td>\n",
       "    </tr>\n",
       "    <tr>\n",
       "      <th>1630</th>\n",
       "      <td>Мужской</td>\n",
       "      <td>Минск</td>\n",
       "      <td>Специалист техподдержки и автоматизации процес...</td>\n",
       "      <td>Senior</td>\n",
       "      <td>20000.0</td>\n",
       "    </tr>\n",
       "    <tr>\n",
       "      <th>1631</th>\n",
       "      <td>Мужской</td>\n",
       "      <td>Минск</td>\n",
       "      <td>Графический дизайнер</td>\n",
       "      <td>Middle</td>\n",
       "      <td>34098.0</td>\n",
       "    </tr>\n",
       "    <tr>\n",
       "      <th>1632</th>\n",
       "      <td>Мужской</td>\n",
       "      <td>Минск</td>\n",
       "      <td>Системный администратор</td>\n",
       "      <td>Senior</td>\n",
       "      <td>24000.0</td>\n",
       "    </tr>\n",
       "    <tr>\n",
       "      <th>1633</th>\n",
       "      <td>Мужской</td>\n",
       "      <td>Минск</td>\n",
       "      <td>NET Разработчик</td>\n",
       "      <td>Middle</td>\n",
       "      <td>25000.0</td>\n",
       "    </tr>\n",
       "  </tbody>\n",
       "</table>\n",
       "<p>1634 rows × 5 columns</p>\n",
       "</div>"
      ],
      "text/plain": [
       "          Пол      Город                                            Позиция  \\\n",
       "0     Мужской  Хельсинки                                Инженер-программист   \n",
       "1     Мужской  Хельсинки                                 Бэкенд-разработчик   \n",
       "2     Мужской  Хельсинки                                Инженер-программист   \n",
       "3     Мужской  Хельсинки                               Фронтенд-разработчик   \n",
       "4     Мужской  Хельсинки                                 Бэкенд-разработчик   \n",
       "...       ...        ...                                                ...   \n",
       "1629  Мужской     Гродно                                Инженер-программист   \n",
       "1630  Мужской      Минск  Специалист техподдержки и автоматизации процес...   \n",
       "1631  Мужской      Минск                               Графический дизайнер   \n",
       "1632  Мужской      Минск                            Системный администратор   \n",
       "1633  Мужской      Минск                                    NET Разработчик   \n",
       "\n",
       "     Старшинство  Ежегодная зарплата(доллары)  \n",
       "0         Senior                      80000.0  \n",
       "1         Senior                      80000.0  \n",
       "2           Lead                     120000.0  \n",
       "3         Junior                      54000.0  \n",
       "4         Senior                      62000.0  \n",
       "...          ...                          ...  \n",
       "1629      Senior                      44320.0  \n",
       "1630      Senior                      20000.0  \n",
       "1631      Middle                      34098.0  \n",
       "1632      Senior                      24000.0  \n",
       "1633      Middle                      25000.0  \n",
       "\n",
       "[1634 rows x 5 columns]"
      ]
     },
     "execution_count": 2,
     "metadata": {},
     "output_type": "execute_result"
    }
   ],
   "source": [
    "df=pd.read_excel('data_final.xlsx')\n",
    "df"
   ]
  },
  {
   "cell_type": "markdown",
   "id": "78e7cf7e",
   "metadata": {},
   "source": [
    "# K-means"
   ]
  },
  {
   "cell_type": "markdown",
   "id": "e5c150a1",
   "metadata": {},
   "source": [
    "# Firstly, let's examine \"Позиция\""
   ]
  },
  {
   "cell_type": "markdown",
   "id": "af9fc4e7",
   "metadata": {},
   "source": [
    "# Transformation of text data into numerical and the usage of the elbow method"
   ]
  },
  {
   "cell_type": "code",
   "execution_count": 4,
   "id": "89de00de",
   "metadata": {},
   "outputs": [
    {
     "name": "stderr",
     "output_type": "stream",
     "text": [
      "[nltk_data] Downloading package stopwords to\n",
      "[nltk_data]     C:\\Users\\kirag\\AppData\\Roaming\\nltk_data...\n",
      "[nltk_data]   Package stopwords is already up-to-date!\n"
     ]
    },
    {
     "data": {
      "image/png": "[encoded data removed]",
      "text/plain": [
       "<Figure size 432x288 with 1 Axes>"
      ]
     },
     "metadata": {
      "needs_background": "light"
     },
     "output_type": "display_data"
    }
   ],
   "source": [
    "from sklearn.feature_extraction.text import TfidfVectorizer\n",
    "from sklearn.cluster import KMeans\n",
    "import matplotlib.pyplot as plt\n",
    "\n",
    "import nltk\n",
    "nltk.download('stopwords')\n",
    "from nltk.corpus import stopwords\n",
    "\n",
    "# Sample job descriptions in Russian\n",
    "job_descriptions = df.iloc[:, 2]\n",
    "\n",
    "# Create a list of Russian stop words using NLTK\n",
    "russian_stop_words = stopwords.words('russian')\n",
    "\n",
    "# Convert text data to numerical vectors\n",
    "vectorizer = TfidfVectorizer(stop_words=russian_stop_words)\n",
    "\n",
    "X = vectorizer.fit_transform(job_descriptions)\n",
    "\n",
    "# Perform K-means clustering with elbow method\n",
    "wcss = []\n",
    "for i in range(1, 100):\n",
    "    kmeans = KMeans(n_clusters = i, init = 'k-means++', random_state = 42)\n",
    "    kmeans.fit(X)\n",
    "    wcss.append(kmeans.inertia_)\n",
    "    \n",
    "# Plot the elbow curve to determine optimal number of clusters\n",
    "plt.plot(range(1, 100), wcss)\n",
    "plt.title('Elbow Method')\n",
    "plt.xlabel('Number of clusters')\n",
    "plt.ylabel('WCSS')\n",
    "plt.show()\n"
   ]
  },
  {
   "cell_type": "markdown",
   "id": "bb46be85",
   "metadata": {},
   "source": [
    "# Training the K-Means model on the dataset and printing the result\n"
   ]
  },
  {
   "cell_type": "code",
   "execution_count": 5,
   "id": "d93d2482",
   "metadata": {},
   "outputs": [
    {
     "name": "stdout",
     "output_type": "stream",
     "text": [
      "Cluster labels: [ 0  3  0 ... 14  1 18]\n"
     ]
    }
   ],
   "source": [
    "# Perform K-means clustering with optimal number of clusters\n",
    "kmeans = KMeans(n_clusters = 20, init = 'k-means++', random_state = 42)\n",
    "kmeans.fit(X)\n",
    "\n",
    "# Print the cluster labels\n",
    "print(\"Cluster labels:\", kmeans.labels_)"
   ]
  },
  {
   "cell_type": "code",
   "execution_count": 15,
   "id": "c8b71166",
   "metadata": {},
   "outputs": [],
   "source": [
    "dfs = []\n",
    "for i in range (0, 20):\n",
    "    loc = []\n",
    "    for j in range(len(kmeans.labels_)):\n",
    "        if kmeans.labels_[j] == i:\n",
    "            loc.append(j)\n",
    "    df_new = pd.concat([df.iloc[loc]], ignore_index=True)\n",
    "    dfs.append(pd.DataFrame({len(loc)}))\n",
    "    dfs.append(pd.DataFrame({}))\n",
    "    dfs.append(df_new)\n",
    "df_kmeans_pos = pd.concat(dfs, axis=0, ignore_index=True)\n",
    "df_kmeans_pos.to_excel('kmeans_pos.xlsx')"
   ]
  },
  {
   "cell_type": "markdown",
   "id": "dc2b353b",
   "metadata": {},
   "source": [
    "# Secondly, let's examine \"Позиция\" and \"Зарплата\""
   ]
  },
  {
   "cell_type": "code",
   "execution_count": 37,
   "id": "ea270c6b",
   "metadata": {},
   "outputs": [
    {
     "name": "stderr",
     "output_type": "stream",
     "text": [
      "[nltk_data] Downloading package stopwords to\n",
      "[nltk_data]     C:\\Users\\kirag\\AppData\\Roaming\\nltk_data...\n",
      "[nltk_data]   Package stopwords is already up-to-date!\n"
     ]
    },
    {
     "data": {
      "image/png": "[encoded data removed]",
      "text/plain": [
       "<Figure size 432x288 with 1 Axes>"
      ]
     },
     "metadata": {
      "needs_background": "light"
     },
     "output_type": "display_data"
    }
   ],
   "source": [
    "from sklearn.feature_extraction.text import TfidfVectorizer\n",
    "from sklearn.cluster import KMeans\n",
    "import matplotlib.pyplot as plt\n",
    "\n",
    "import nltk\n",
    "nltk.download('stopwords')\n",
    "from nltk.corpus import stopwords\n",
    "\n",
    "job_data = df.iloc[:, [2, 4]].values\n",
    "\n",
    "job_descriptions = [x[0] for x in job_data]\n",
    "salaries = [x[1] for x in job_data]\n",
    "\n",
    "russian_stop_words = stopwords.words('russian')\n",
    "\n",
    "vectorizer = TfidfVectorizer(stop_words=russian_stop_words)\n",
    "X = vectorizer.fit_transform(job_descriptions)\n",
    "\n",
    "X_mixed = np.column_stack((X.toarray(), salaries))\n",
    "\n",
    "distortions = []\n",
    "for i in range(1, 100):\n",
    "    kmeans = KMeans(n_clusters=i, init='k-means++', random_state=42)\n",
    "    kmeans.fit(X_mixed)\n",
    "    distortions.append(kmeans.inertia_)\n",
    "\n",
    "# plot the elbow curve\n",
    "plt.plot(range(1, 100), distortions, marker='o')\n",
    "plt.title('Elbow Method')\n",
    "plt.xlabel('Number of clusters')\n",
    "plt.ylabel('Distortion')\n",
    "plt.show()\n"
   ]
  },
  {
   "cell_type": "code",
   "execution_count": 4,
   "id": "198be1bd",
   "metadata": {},
   "outputs": [],
   "source": [
    "kmeans = KMeans(n_clusters = 16, init = 'k-means++', random_state = 42)\n",
    "y_kmeans = kmeans.fit_predict(X_mixed)"
   ]
  },
  {
   "cell_type": "code",
   "execution_count": 10,
   "id": "2cec3cbf",
   "metadata": {},
   "outputs": [],
   "source": [
    "dfs = []\n",
    "for i in range (0, 16):\n",
    "    loc = []\n",
    "    for j in range(len(y_kmeans)):\n",
    "        if y_kmeans[j] == i:\n",
    "            loc.append(j)\n",
    "    df_new = pd.concat([df.iloc[loc]], ignore_index=True)\n",
    "    dfs.append(pd.DataFrame({len(loc)}))\n",
    "    dfs.append(pd.DataFrame({}))\n",
    "    dfs.append(df_new)\n",
    "df_kmeans_pos = pd.concat(dfs, axis=0, ignore_index=True)\n",
    "df_kmeans_pos.to_excel('kmeans_pos_and_sal.xlsx')"
   ]
  },
  {
   "cell_type": "markdown",
   "id": "4317462e",
   "metadata": {},
   "source": [
    "# Thirdly, let's examine \"Позиция\" and \"Старшинство\""
   ]
  },
  {
   "cell_type": "code",
   "execution_count": 38,
   "id": "f5583e8b",
   "metadata": {},
   "outputs": [
    {
     "name": "stderr",
     "output_type": "stream",
     "text": [
      "[nltk_data] Downloading package stopwords to\n",
      "[nltk_data]     C:\\Users\\kirag\\AppData\\Roaming\\nltk_data...\n",
      "[nltk_data]   Package stopwords is already up-to-date!\n"
     ]
    },
    {
     "data": {
      "image/png": "[encoded data removed]",
      "text/plain": [
       "<Figure size 432x288 with 1 Axes>"
      ]
     },
     "metadata": {
      "needs_background": "light"
     },
     "output_type": "display_data"
    }
   ],
   "source": [
    "from sklearn.feature_extraction.text import TfidfVectorizer\n",
    "from sklearn.cluster import KMeans\n",
    "import matplotlib.pyplot as plt\n",
    "\n",
    "import nltk\n",
    "nltk.download('stopwords')\n",
    "from nltk.corpus import stopwords\n",
    "\n",
    "job_data = df.iloc[:, [2, 3]].values\n",
    "\n",
    "job_descriptions = [x[0] for x in job_data]\n",
    "seniority = [x[1] for x in job_data]\n",
    "\n",
    "russian_stop_words = stopwords.words('russian')\n",
    "\n",
    "vectorizer = TfidfVectorizer(stop_words=russian_stop_words)\n",
    "X = vectorizer.fit_transform(job_descriptions)\n",
    "X1 = vectorizer.fit_transform(seniority)\n",
    "\n",
    "X_mixed = np.column_stack((X.toarray(), X1.toarray()))\n",
    "\n",
    "distortions = []\n",
    "for i in range(1, 100):\n",
    "    kmeans = KMeans(n_clusters=i, init='k-means++', random_state=42)\n",
    "    kmeans.fit(X_mixed)\n",
    "    distortions.append(kmeans.inertia_)\n",
    "\n",
    "# plot the elbow curve\n",
    "plt.plot(range(1, 100), distortions, marker='o')\n",
    "plt.title('Elbow Method')\n",
    "plt.xlabel('Number of clusters')\n",
    "plt.ylabel('Distortion')\n",
    "plt.show()"
   ]
  },
  {
   "cell_type": "code",
   "execution_count": 39,
   "id": "c1bbbc91",
   "metadata": {},
   "outputs": [],
   "source": [
    "kmeans1 = KMeans(n_clusters = 10, init = 'k-means++', random_state = 42)\n",
    "y_kmeans1 = kmeans1.fit_predict(X_mixed)"
   ]
  },
  {
   "cell_type": "code",
   "execution_count": 40,
   "id": "37b3d4a6",
   "metadata": {},
   "outputs": [],
   "source": [
    "dfs = []\n",
    "for i in range (0, 10):\n",
    "    loc = []\n",
    "    for j in range(len(y_kmeans1)):\n",
    "        if y_kmeans1[j] == i:\n",
    "            loc.append(j)\n",
    "    df_new = pd.concat([df.iloc[loc]], ignore_index=True)\n",
    "    dfs.append(pd.DataFrame({len(loc)}))\n",
    "    dfs.append(pd.DataFrame({}))\n",
    "    dfs.append(df_new)\n",
    "df_kmeans_pos_and_seniority = pd.concat(dfs, axis=0, ignore_index=True)\n",
    "df_kmeans_pos_and_seniority.to_excel('kmeans_pos_and_seniority.xlsx')"
   ]
  },
  {
   "cell_type": "markdown",
   "id": "ee319891",
   "metadata": {},
   "source": [
    "# \"Город\" and \"Зарплата\""
   ]
  },
  {
   "cell_type": "code",
   "execution_count": 41,
   "id": "0c68546d",
   "metadata": {},
   "outputs": [
    {
     "name": "stderr",
     "output_type": "stream",
     "text": [
      "[nltk_data] Downloading package stopwords to\n",
      "[nltk_data]     C:\\Users\\kirag\\AppData\\Roaming\\nltk_data...\n",
      "[nltk_data]   Package stopwords is already up-to-date!\n"
     ]
    },
    {
     "data": {
      "image/png": "[encoded data removed]",
      "text/plain": [
       "<Figure size 432x288 with 1 Axes>"
      ]
     },
     "metadata": {
      "needs_background": "light"
     },
     "output_type": "display_data"
    }
   ],
   "source": [
    "from sklearn.feature_extraction.text import TfidfVectorizer\n",
    "from sklearn.cluster import KMeans\n",
    "import matplotlib.pyplot as plt\n",
    "\n",
    "import nltk\n",
    "nltk.download('stopwords')\n",
    "from nltk.corpus import stopwords\n",
    "\n",
    "job_data = df.iloc[:, [1, 4]].values\n",
    "\n",
    "cities = [x[0] for x in job_data]\n",
    "salaries = [x[1] for x in job_data]\n",
    "\n",
    "russian_stop_words = stopwords.words('russian')\n",
    "\n",
    "vectorizer = TfidfVectorizer(stop_words=russian_stop_words)\n",
    "X = vectorizer.fit_transform(cities)\n",
    "\n",
    "X_mixed = np.column_stack((X.toarray(), salaries))\n",
    "\n",
    "distortions = []\n",
    "for i in range(1, 100):\n",
    "    kmeans = KMeans(n_clusters=i, init='k-means++', random_state=42)\n",
    "    kmeans.fit(X_mixed)\n",
    "    distortions.append(kmeans.inertia_)\n",
    "\n",
    "# plot the elbow curve\n",
    "plt.plot(range(1, 100), distortions, marker='o')\n",
    "plt.title('Elbow Method')\n",
    "plt.xlabel('Number of clusters')\n",
    "plt.ylabel('Distortion')\n",
    "plt.show()"
   ]
  },
  {
   "cell_type": "code",
   "execution_count": 42,
   "id": "aa84d1ec",
   "metadata": {},
   "outputs": [],
   "source": [
    "kmeans2 = KMeans(n_clusters = 10, init = 'k-means++', random_state = 42)\n",
    "y_kmeans2 = kmeans2.fit_predict(X_mixed)"
   ]
  },
  {
   "cell_type": "code",
   "execution_count": 43,
   "id": "b216675a",
   "metadata": {},
   "outputs": [],
   "source": [
    "dfs = []\n",
    "a = 0\n",
    "for i in range (0, 10):\n",
    "    loc = []\n",
    "    for j in range(len(y_kmeans2)):\n",
    "        if y_kmeans2[j] == i:\n",
    "            loc.append(j)\n",
    "            a += 1\n",
    "    df_new = pd.concat([df.iloc[loc]], ignore_index=True)\n",
    "    dfs.append(pd.DataFrame({len(loc)}))\n",
    "    dfs.append(pd.DataFrame({}))\n",
    "    dfs.append(df_new)\n",
    "df_kmeans_city_and_sal = pd.concat(dfs, axis=0, ignore_index=True)\n",
    "df_kmeans_city_and_sal.to_excel('kmeans_city_and_sal.xlsx')"
   ]
  },
  {
   "cell_type": "markdown",
   "id": "78a33249",
   "metadata": {},
   "source": [
    "#  Hierarchical\n"
   ]
  },
  {
   "cell_type": "markdown",
   "id": "64e399a0",
   "metadata": {},
   "source": [
    "# \"Позиция\""
   ]
  },
  {
   "cell_type": "code",
   "execution_count": 4,
   "id": "8a46fd05",
   "metadata": {},
   "outputs": [
    {
     "name": "stderr",
     "output_type": "stream",
     "text": [
      "[nltk_data] Downloading package stopwords to\n",
      "[nltk_data]     C:\\Users\\kirag\\AppData\\Roaming\\nltk_data...\n",
      "[nltk_data]   Package stopwords is already up-to-date!\n"
     ]
    },
    {
     "data": {
      "image/png": "[encoded data removed]",
      "text/plain": [
       "<Figure size 432x288 with 1 Axes>"
      ]
     },
     "metadata": {
      "needs_background": "light"
     },
     "output_type": "display_data"
    }
   ],
   "source": [
    "import numpy as np\n",
    "import matplotlib.pyplot as plt\n",
    "from scipy.cluster.hierarchy import dendrogram, linkage\n",
    "from sklearn.feature_extraction.text import TfidfVectorizer\n",
    "from sklearn.metrics.pairwise import cosine_similarity\n",
    "import nltk\n",
    "nltk.download('stopwords')\n",
    "from nltk.corpus import stopwords\n",
    "\n",
    "job_descriptions = df.iloc[:, 2].values\n",
    "russian_stop_words = stopwords.words('russian')\n",
    "vectorizer = TfidfVectorizer(stop_words=russian_stop_words)\n",
    "X = vectorizer.fit_transform(job_descriptions)\n",
    "\n",
    "# Compute cosine similarity matrix for clustering\n",
    "dist = 1 - cosine_similarity(X)\n",
    "\n",
    "linkage_matrix = linkage(dist, method='ward')\n",
    "plt.title('Hierarchical Clustering Dendrogram')\n",
    "plt.xlabel('Sample index')\n",
    "plt.ylabel('Distance')\n",
    "dendrogram(linkage_matrix, labels=job_descriptions)\n",
    "plt.show()"
   ]
  },
  {
   "cell_type": "markdown",
   "id": "0ca31a96",
   "metadata": {},
   "source": [
    "# Training the Hierarchical Clustering model on the dataset"
   ]
  },
  {
   "cell_type": "code",
   "execution_count": 16,
   "id": "c5262f0f",
   "metadata": {},
   "outputs": [],
   "source": [
    "from sklearn.cluster import AgglomerativeClustering\n",
    "model = AgglomerativeClustering(n_clusters=5, linkage='ward')\n",
    "y_model = model.fit(X.toarray())"
   ]
  },
  {
   "cell_type": "code",
   "execution_count": 21,
   "id": "54cda415",
   "metadata": {},
   "outputs": [
    {
     "data": {
      "text/plain": [
       "array([1, 2, 1, ..., 5, 5, 5], dtype=int32)"
      ]
     },
     "execution_count": 21,
     "metadata": {},
     "output_type": "execute_result"
    }
   ],
   "source": [
    "clusters=fcluster(linkage_matrix, 5, criterion='maxclust')\n",
    "clusters"
   ]
  },
  {
   "cell_type": "code",
   "execution_count": 25,
   "id": "6136bf56",
   "metadata": {},
   "outputs": [
    {
     "data": {
      "text/plain": [
       "5"
      ]
     },
     "execution_count": 25,
     "metadata": {},
     "output_type": "execute_result"
    }
   ],
   "source": [
    "max(clusters)"
   ]
  },
  {
   "cell_type": "code",
   "execution_count": 26,
   "id": "0b47ccb7",
   "metadata": {},
   "outputs": [],
   "source": [
    "dfs = []\n",
    "for i in range (1, 6):\n",
    "    loc = []\n",
    "    for j in range(len(clusters)):\n",
    "        if clusters[j] == i:\n",
    "            loc.append(j)\n",
    "    df_new = pd.concat([df.iloc[loc]], ignore_index=True)\n",
    "    dfs.append(pd.DataFrame({len(loc)}))\n",
    "    dfs.append(pd.DataFrame({}))\n",
    "    dfs.append(df_new)\n",
    "df_hierarchical_pos = pd.concat(dfs, axis=0, ignore_index=True)\n",
    "df_hierarchical_pos.to_excel('hierarchical_pos.xlsx')"
   ]
  },
  {
   "cell_type": "markdown",
   "id": "cf6683e7",
   "metadata": {},
   "source": [
    "# DBSCAN"
   ]
  },
  {
   "cell_type": "markdown",
   "id": "27ffedc5",
   "metadata": {},
   "source": [
    "# \"Позиция\" and \"Зарплата\""
   ]
  },
  {
   "cell_type": "code",
   "execution_count": 34,
   "id": "bf642062",
   "metadata": {},
   "outputs": [
    {
     "name": "stdout",
     "output_type": "stream",
     "text": [
      "[ 0  1 -1 ... -1 -1 -1]\n"
     ]
    },
    {
     "name": "stderr",
     "output_type": "stream",
     "text": [
      "[nltk_data] Downloading package stopwords to\n",
      "[nltk_data]     C:\\Users\\kirag\\AppData\\Roaming\\nltk_data...\n",
      "[nltk_data]   Package stopwords is already up-to-date!\n"
     ]
    }
   ],
   "source": [
    "from sklearn.feature_extraction.text import TfidfVectorizer\n",
    "from sklearn.cluster import DBSCAN\n",
    "\n",
    "import nltk\n",
    "nltk.download('stopwords')\n",
    "from nltk.corpus import stopwords\n",
    "\n",
    "job_data = df.iloc[:, [2, 4]].values\n",
    "\n",
    "job_descriptions = [x[0] for x in job_data]\n",
    "salaries = [x[1] for x in job_data]\n",
    "\n",
    "russian_stop_words = stopwords.words('russian')\n",
    "\n",
    "vectorizer = TfidfVectorizer(stop_words=russian_stop_words)\n",
    "X = vectorizer.fit_transform(job_descriptions)\n",
    "\n",
    "X_mixed = np.column_stack((X.toarray(), salaries))\n",
    "# run DBSCAN clustering\n",
    "dbscan = DBSCAN(eps=0.4, min_samples=10)\n",
    "clusters1 = dbscan.fit_predict(X_mixed)\n",
    "\n",
    "print(clusters1)"
   ]
  },
  {
   "cell_type": "code",
   "execution_count": 35,
   "id": "024310ac",
   "metadata": {},
   "outputs": [
    {
     "name": "stdout",
     "output_type": "stream",
     "text": [
      "-1\n",
      "13\n"
     ]
    }
   ],
   "source": [
    "print(min(clusters1))\n",
    "print(max(clusters1))"
   ]
  },
  {
   "cell_type": "code",
   "execution_count": 37,
   "id": "4f69a8ec",
   "metadata": {},
   "outputs": [],
   "source": [
    "dfs = []\n",
    "for i in range (0, 14):\n",
    "    loc = []\n",
    "    for j in range(len(clusters1)):\n",
    "        if clusters1[j] == i:\n",
    "            loc.append(j)\n",
    "    df_new = pd.concat([df.iloc[loc]], ignore_index=True)\n",
    "    dfs.append(pd.DataFrame({len(loc)}))\n",
    "    dfs.append(pd.DataFrame({}))\n",
    "    dfs.append(df_new)\n",
    "df_dbscan_pos_and_sal = pd.concat(dfs, axis=0, ignore_index=True)\n",
    "df_dbscan_pos_and_sal.to_excel('dbscan_pos_and_sal.xlsx')"
   ]
  },
  {
   "cell_type": "markdown",
   "id": "cf6e70cb",
   "metadata": {},
   "source": [
    "# \"Город\" and \"Позиция\""
   ]
  },
  {
   "cell_type": "code",
   "execution_count": 41,
   "id": "1315bbb2",
   "metadata": {},
   "outputs": [],
   "source": [
    "job_data = df.iloc[:, [1, 2]].values\n",
    "\n",
    "job_descriptions = [x[0] for x in job_data]\n",
    "seniority = [x[1] for x in job_data]\n",
    "\n",
    "russian_stop_words = stopwords.words('russian')\n",
    "\n",
    "vectorizer = TfidfVectorizer(stop_words=russian_stop_words)\n",
    "X = vectorizer.fit_transform(job_descriptions)\n",
    "X1 = vectorizer.fit_transform(seniority)\n",
    "\n",
    "X_mixed = np.column_stack((X.toarray(), X1.toarray()))\n",
    "\n",
    "dbscan2 = DBSCAN(eps=0.4, min_samples=10)\n",
    "clusters2 = dbscan.fit_predict(X_mixed)"
   ]
  },
  {
   "cell_type": "code",
   "execution_count": 42,
   "id": "c6c7d2ab",
   "metadata": {},
   "outputs": [
    {
     "name": "stdout",
     "output_type": "stream",
     "text": [
      "-1\n",
      "19\n"
     ]
    }
   ],
   "source": [
    "print(min(clusters2))\n",
    "print(max(clusters2))"
   ]
  },
  {
   "cell_type": "code",
   "execution_count": 43,
   "id": "8db99bad",
   "metadata": {},
   "outputs": [],
   "source": [
    "dfs = []\n",
    "for i in range (0, 20):\n",
    "    loc = []\n",
    "    for j in range(len(clusters2)):\n",
    "        if clusters2[j] == i:\n",
    "            loc.append(j)\n",
    "    df_new = pd.concat([df.iloc[loc]], ignore_index=True)\n",
    "    dfs.append(pd.DataFrame({len(loc)}))\n",
    "    dfs.append(pd.DataFrame({}))\n",
    "    dfs.append(df_new)\n",
    "df_dbscan_city_and_pos = pd.concat(dfs, axis=0, ignore_index=True)\n",
    "df_dbscan_city_and_pos.to_excel('dbscan_city_and_pos.xlsx')"
   ]
  },
  {
   "cell_type": "markdown",
   "id": "c0d4801c",
   "metadata": {},
   "source": [
    "# Distribution-based clustering(GMM model)"
   ]
  },
  {
   "cell_type": "markdown",
   "id": "d539e189",
   "metadata": {},
   "source": [
    "# \"Город\" and \"Зарплата\""
   ]
  },
  {
   "cell_type": "code",
   "execution_count": 44,
   "id": "46ca39c0",
   "metadata": {},
   "outputs": [
    {
     "data": {
      "image/png": "[encoded data removed]",
      "text/plain": [
       "<Figure size 432x288 with 1 Axes>"
      ]
     },
     "metadata": {
      "needs_background": "light"
     },
     "output_type": "display_data"
    }
   ],
   "source": [
    "from sklearn.mixture import GaussianMixture\n",
    "job_data = df.iloc[:, [1, 4]].values\n",
    "\n",
    "cities = [x[0] for x in job_data]\n",
    "salaries = [x[1] for x in job_data]\n",
    "\n",
    "russian_stop_words = stopwords.words('russian')\n",
    "\n",
    "vectorizer = TfidfVectorizer(stop_words=russian_stop_words)\n",
    "X = vectorizer.fit_transform(cities)\n",
    "\n",
    "X_mixed = np.column_stack((X.toarray(), salaries))\n",
    "\n",
    "distortions = []\n",
    "for i in range(1, 100):\n",
    "    kmeans = KMeans(n_clusters=i, init='k-means++', random_state=42)\n",
    "    kmeans.fit(X_mixed)\n",
    "    distortions.append(kmeans.inertia_)\n",
    "\n",
    "# plot the elbow curve\n",
    "plt.plot(range(1, 100), distortions, marker='o')\n",
    "plt.title('Elbow Method')\n",
    "plt.xlabel('Number of clusters')\n",
    "plt.ylabel('Distortion')\n",
    "plt.show()"
   ]
  },
  {
   "cell_type": "code",
   "execution_count": 45,
   "id": "e757ae55",
   "metadata": {},
   "outputs": [
    {
     "name": "stdout",
     "output_type": "stream",
     "text": [
      "[7 7 7 ... 0 0 0]\n"
     ]
    }
   ],
   "source": [
    "# run Gaussian Mixture Models clustering\n",
    "gmm = GaussianMixture(n_components=11, random_state=42)\n",
    "gmm.fit(X_mixed)\n",
    "\n",
    "labels2 = gmm.predict(X_mixed)\n",
    "\n",
    "# print the clustering results\n",
    "print(labels2)"
   ]
  },
  {
   "cell_type": "code",
   "execution_count": 46,
   "id": "8a5a3969",
   "metadata": {},
   "outputs": [
    {
     "data": {
      "text/plain": [
       "1634"
      ]
     },
     "execution_count": 46,
     "metadata": {},
     "output_type": "execute_result"
    }
   ],
   "source": [
    "len(labels2)"
   ]
  },
  {
   "cell_type": "code",
   "execution_count": 47,
   "id": "9adaf380",
   "metadata": {},
   "outputs": [],
   "source": [
    "dfs = []\n",
    "for i in range (0, 20):\n",
    "    loc = []\n",
    "    for j in range(len(clusters2)):\n",
    "        if clusters2[j] == i:\n",
    "            loc.append(j)\n",
    "    df_new = pd.concat([df.iloc[loc]], ignore_index=True)\n",
    "    dfs.append(pd.DataFrame({len(loc)}))\n",
    "    dfs.append(pd.DataFrame({}))\n",
    "    dfs.append(df_new)\n",
    "df_gmm_city_and_sal = pd.concat(dfs, axis=0, ignore_index=True)\n",
    "df_gmm_city_and_sal.to_excel('gmm_city_and_sal.xlsx')"
   ]
  },
  {
   "cell_type": "code",
   "execution_count": null,
   "id": "eb76253f",
   "metadata": {},
   "outputs": [],
   "source": []
  }
 ],
 "metadata": {
  "kernelspec": {
   "display_name": "Python 3 (ipykernel)",
   "language": "python",
   "name": "python3"
  },
  "language_info": {
   "codemirror_mode": {
    "name": "ipython",
    "version": 3
   },
   "file_extension": ".py",
   "mimetype": "text/x-python",
   "name": "python",
   "nbconvert_exporter": "python",
   "pygments_lexer": "ipython3",
   "version": "3.9.8"
  }
 },
 "nbformat": 4,
 "nbformat_minor": 5
}
